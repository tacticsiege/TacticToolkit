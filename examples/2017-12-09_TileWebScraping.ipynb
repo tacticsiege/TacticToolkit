{
 "cells": [
  {
   "cell_type": "code",
   "execution_count": 5,
   "metadata": {
    "collapsed": true
   },
   "outputs": [],
   "source": [
    "import requests\n",
    "from bs4 import BeautifulSoup\n",
    "import pathlib\n",
    "import os"
   ]
  },
  {
   "cell_type": "markdown",
   "metadata": {},
   "source": [
    "### Downloading and Parsing"
   ]
  },
  {
   "cell_type": "code",
   "execution_count": 6,
   "metadata": {
    "collapsed": true
   },
   "outputs": [],
   "source": [
    "# Create BeautifulSoup object from website\n",
    "def load_soup(url):\n",
    "    page = requests.get(url)\n",
    "    soup = BeautifulSoup(page.content, 'html.parser')\n",
    "    return soup"
   ]
  },
  {
   "cell_type": "markdown",
   "metadata": {},
   "source": [
    "### Working with the Soup"
   ]
  },
  {
   "cell_type": "code",
   "execution_count": 7,
   "metadata": {},
   "outputs": [],
   "source": [
    "# site galleries contain tables for individual tilesets\n",
    "def get_tileset_tables(soup):\n",
    "    # 2-corner\n",
    "    tables = get_two_corner_tileset_tables(soup)\n",
    "    for t in tables:\n",
    "        yield t\n",
    "    \n",
    "def get_two_corner_tileset_tables(soup):\n",
    "    return (soup\n",
    "            .find_all('table')[3]\n",
    "            .find('table')\n",
    "            .find_all('table'))"
   ]
  },
  {
   "cell_type": "markdown",
   "metadata": {},
   "source": [
    "### Working with Tileset Table"
   ]
  },
  {
   "cell_type": "code",
   "execution_count": 8,
   "metadata": {
    "collapsed": true
   },
   "outputs": [],
   "source": [
    "def get_set_name(table):\n",
    "    name = table.find('caption').text.strip().replace('*', '')\n",
    "    return name\n",
    "\n",
    "def get_image_addresses(table):\n",
    "    imgs = table.find_all('img')\n",
    "    for i in imgs:\n",
    "        address = fixRelativeUrl(i.attrs['src'])\n",
    "        yield address\n",
    "    \n",
    "def fixRelativeUrl(url):\n",
    "    # HACK: for these we go up a level\n",
    "    return url.replace('..', 'http://cr31.co.uk/stagecast')\n",
    "                                                      "
   ]
  },
  {
   "cell_type": "markdown",
   "metadata": {},
   "source": [
    "### Downloading and Saving Tile Images"
   ]
  },
  {
   "cell_type": "code",
   "execution_count": 10,
   "metadata": {
    "collapsed": true
   },
   "outputs": [],
   "source": [
    "def get_formatted_tilename(url):\n",
    "    # find just the filename\n",
    "    s = src.split('/')[-1]\n",
    "    num = int(s.split('.')[0])\n",
    "    # keep leading zeros for 3 digits\n",
    "    formatted = set_dir + '/' + '{:0>3d}.gif'.format(num)\n",
    "    return formatted\n",
    "\n",
    "def download_tile(url, set_dir, verbose=False):\n",
    "    response = requests.get(url)\n",
    "    if response.status_code == 200:\n",
    "        filename = get_formatted_tilename(url)\n",
    "        save_image(response.content, filename, verbose)\n",
    "    else:\n",
    "        print ('Bad response code:', response.status_code, 'for', url)\n",
    "        \n",
    "def save_image(content, filename, verbose=False):\n",
    "    with open(filename, 'wb') as f:\n",
    "        f.write(content)\n",
    "        if verbose:\n",
    "            print ('Saved', filename)"
   ]
  },
  {
   "cell_type": "markdown",
   "metadata": {},
   "source": [
    "### Scraper Algorithm"
   ]
  },
  {
   "cell_type": "code",
   "execution_count": 12,
   "metadata": {
    "collapsed": true
   },
   "outputs": [],
   "source": [
    "def runTileScraper():\n",
    "    print ('Scraping tiles to', os.getcwd())\n",
    "    # create work folder\n",
    "    tile_dir = './wang'\n",
    "    pathlib.Path(tile_dir).mkdir(parents=True, exist_ok=True)\n",
    "    \n",
    "    urls = ['http://cr31.co.uk/stagecast/wang/tiles_c.html']    \n",
    "    for url in urls:\n",
    "        soup = load_soup(url)\n",
    "        \n",
    "        # loop over all the tile sets\n",
    "        for tileset in get_tileset_tables(soup):\n",
    "            name = get_set_name(tileset)\n",
    "            set_dir = tile_dir + '/' + name\n",
    "            pathlib.Path(set_dir).mkdir(parents=True, exist_ok=True)\n",
    "            \n",
    "            # loop over all of the tile images\n",
    "            for img in get_image_addresses(tileset):\n",
    "                download_tile(img, set_dir, verbose=True)\n",
    "            \n",
    "            print ('Downloaded', name)\n",
    "        \n",
    "        print ('Tile scrape complete for', url)\n",
    "    print ('All tile scrapers complete!')\n"
   ]
  },
  {
   "cell_type": "code",
   "execution_count": null,
   "metadata": {
    "collapsed": true
   },
   "outputs": [],
   "source": []
  }
 ],
 "metadata": {
  "kernelspec": {
   "display_name": "Python 3",
   "language": "python",
   "name": "python3"
  },
  "language_info": {
   "codemirror_mode": {
    "name": "ipython",
    "version": 3
   },
   "file_extension": ".py",
   "mimetype": "text/x-python",
   "name": "python",
   "nbconvert_exporter": "python",
   "pygments_lexer": "ipython3",
   "version": "3.6.2"
  }
 },
 "nbformat": 4,
 "nbformat_minor": 2
}
