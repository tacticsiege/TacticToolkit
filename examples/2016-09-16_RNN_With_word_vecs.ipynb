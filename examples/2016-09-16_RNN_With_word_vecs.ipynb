{
 "cells": [
  {
   "cell_type": "code",
   "execution_count": 1,
   "metadata": {
    "collapsed": true
   },
   "outputs": [],
   "source": [
    "# until ttk is installed, add parent dir to path\n",
    "import sys\n",
    "sys.path.insert(0, '..')"
   ]
  },
  {
   "cell_type": "code",
   "execution_count": 2,
   "metadata": {
    "collapsed": true
   },
   "outputs": [],
   "source": [
    "# typicaL imports\n",
    "import pandas as pd\n",
    "import numpy as np\n",
    "import re\n",
    "\n",
    "import matplotlib\n",
    "%matplotlib inline\n",
    "matplotlib.rcParams['figure.figsize'] = (10.0, 8.0)\n",
    "\n",
    "import matplotlib.pyplot as plt\n",
    "\n",
    "import spacy\n",
    "import ete3\n",
    "import seaborn\n",
    "\n",
    "from ttk.corpus import load_headline_corpus"
   ]
  },
  {
   "cell_type": "code",
   "execution_count": 3,
   "metadata": {},
   "outputs": [
    {
     "name": "stdout",
     "output_type": "stream",
     "text": [
      "Loading corpus from: S:\\git\\tacticsiege\\tactictoolkit\\ttk\\..\\env\\corpus\\dated\\2017_08_22\\corpus\n",
      "Corpus loaded.\n",
      "Headlines: 190447\n",
      "Wall time: 2.7 s\n"
     ]
    }
   ],
   "source": [
    "%%time\n",
    "# load the corpus\n",
    "corpus = load_headline_corpus(verbose=True)\n",
    "\n",
    "print ('Headlines:', len(corpus.sents()))"
   ]
  },
  {
   "cell_type": "code",
   "execution_count": 4,
   "metadata": {},
   "outputs": [
    {
     "name": "stderr",
     "output_type": "stream",
     "text": [
      "S:\\Anaconda3\\lib\\site-packages\\gensim\\utils.py:865: UserWarning: detected Windows; aliasing chunkize to chunkize_serial\n",
      "  warnings.warn(\"detected Windows; aliasing chunkize to chunkize_serial\")\n",
      "Using TensorFlow backend.\n"
     ]
    },
    {
     "name": "stdout",
     "output_type": "stream",
     "text": [
      "Fitting on len(X): 34613\n",
      "X is <class 'list'>\n",
      "Elements of X are <class 'list'>\n",
      "X[0] = ['\"', 'Uninsured', 'ranks', 'still', 'to', 'grow', 'by', 'tens', 'of', 'millions', 'under', 'latest', 'House', 'health', '-', 'care', 'bill', ',', 'CBO', 'says', '\"']\n",
      "Elements of the Elements of X are <class 'str'>\n",
      "Elements: \" Uninsured ranks\n"
     ]
    }
   ],
   "source": [
    "from ttk.preprocessing import Seq2WordVecTransformer\n",
    "from ttk.preprocessing import SeqPaddingTransformer\n",
    "\n",
    "from ttk.corpus import CategorizedDatedCorpusReporter\n",
    "\n",
    "from sklearn.preprocessing import LabelEncoder\n",
    "from sklearn.model_selection import train_test_split\n",
    "\n",
    "label_enc = LabelEncoder()\n",
    "\n",
    "reporter = CategorizedDatedCorpusReporter()\n",
    "\n",
    "corpus_df = reporter.to_data_frame(corpus, categories=['Washington Post', 'CNN'])\n",
    "\n",
    "X = corpus_df['content'].values\n",
    "X = [s.split() for s in X]\n",
    "\n",
    "print ('Fitting on len(X):', len(X))\n",
    "print ('X is', type(X))\n",
    "print ('Elements of X are', type(X[0]))\n",
    "print ('X[0] =', X[0])\n",
    "print ('Elements of the Elements of X are', type(X[0][0]))\n",
    "print ('Elements:', X[0][0], X[0][1], X[0][2])\n",
    "\n",
    "y = label_enc.fit_transform(corpus_df['category'].values)"
   ]
  },
  {
   "cell_type": "code",
   "execution_count": 5,
   "metadata": {},
   "outputs": [
    {
     "name": "stdout",
     "output_type": "stream",
     "text": [
      "0 ['\"', 'Uninsured', 'ranks', 'still', 'to', 'grow', 'by', 'tens', 'of', 'millions', 'under', 'latest', 'House', 'health', '-', 'care', 'bill', ',', 'CBO', 'says', '\"']\n",
      "1 ['\"', 'Republican', 'candidate', 'in', 'Montana', 'race', 'allegedly', \"'\", 'body', '-', 'slammed', \"'\", 'reporter', ',', 'prompting', 'police', 'investigation', '\"']\n",
      "2 ['\"', 'Prepare', 'for', 'the', 'weirdest', 'Election', 'Day', 'in', 'history', ',', 'after', 'a', 'candidate', 'allegedly', 'body', '-', 'slams', 'a', 'reporter', '\"']\n",
      "3 ['Audio', ':', 'Guardian', 'reporter', 'allegedly', 'body', '-', 'slammed', 'by', 'Greg', 'Gianforte']\n",
      "4 ['\"', 'The', 'new', 'GOP', 'health', '-', 'care', 'bill', 'isn', \"'\", 't', 'any', 'better', ',', 'in', 'four', 'charts', '\"']\n",
      "len(X): 34613\n"
     ]
    }
   ],
   "source": [
    "for i in range(5):\n",
    "    print (i, X[i])\n",
    "    \n",
    "print ('len(X):', len(X))"
   ]
  },
  {
   "cell_type": "code",
   "execution_count": 6,
   "metadata": {},
   "outputs": [
    {
     "name": "stdout",
     "output_type": "stream",
     "text": [
      "Fitting on len(X): 34613\n",
      "X is <class 'list'>\n",
      "Elements of X are <class 'list'>\n",
      "X[0] = ['\"', 'Uninsured', 'ranks', 'still', 'to', 'grow', 'by', 'tens', 'of', 'millions', 'under', 'latest', 'House', 'health', '-', 'care', 'bill', ',', 'CBO', 'says', '\"']\n",
      "Elements of the Elements of X are <class 'str'>\n",
      "Elements: \" Uninsured ranks\n"
     ]
    },
    {
     "name": "stderr",
     "output_type": "stream",
     "text": [
      "2017-09-16 22:36:51,270 : INFO : collecting all words and their counts\n",
      "2017-09-16 22:36:51,271 : INFO : PROGRESS: at sentence #0, processed 0 words, keeping 0 word types\n",
      "2017-09-16 22:36:51,298 : INFO : PROGRESS: at sentence #10000, processed 110351 words, keeping 12012 word types\n",
      "2017-09-16 22:36:51,320 : INFO : PROGRESS: at sentence #20000, processed 222094 words, keeping 16758 word types\n",
      "2017-09-16 22:36:51,339 : INFO : PROGRESS: at sentence #30000, processed 333851 words, keeping 20202 word types\n",
      "2017-09-16 22:36:51,349 : INFO : collected 21533 word types from a corpus of 385756 raw words and 34613 sentences\n",
      "2017-09-16 22:36:51,351 : INFO : Loading a fresh vocabulary\n",
      "2017-09-16 22:36:51,385 : INFO : min_count=0 retains 21533 unique words (100% of original 21533, drops 0)\n",
      "2017-09-16 22:36:51,386 : INFO : min_count=0 leaves 385756 word corpus (100% of original 385756, drops 0)\n",
      "2017-09-16 22:36:51,433 : INFO : deleting the raw counts dictionary of 21533 items\n",
      "2017-09-16 22:36:51,435 : INFO : sample=0.001 downsamples 28 most-common words\n",
      "2017-09-16 22:36:51,436 : INFO : downsampling leaves estimated 309416 word corpus (80.2% of prior 385756)\n",
      "2017-09-16 22:36:51,437 : INFO : estimated required memory for 21533 words and 100 dimensions: 27992900 bytes\n",
      "2017-09-16 22:36:51,485 : INFO : resetting layer weights\n",
      "2017-09-16 22:36:51,692 : INFO : training model with 4 workers on 21533 vocabulary and 100 features, using sg=0 hs=0 sample=0.001 negative=5 window=5\n",
      "2017-09-16 22:36:52,423 : INFO : worker thread finished; awaiting finish of 3 more threads\n",
      "2017-09-16 22:36:52,425 : INFO : worker thread finished; awaiting finish of 2 more threads\n",
      "2017-09-16 22:36:52,430 : INFO : worker thread finished; awaiting finish of 1 more threads\n",
      "2017-09-16 22:36:52,435 : INFO : worker thread finished; awaiting finish of 0 more threads\n",
      "2017-09-16 22:36:52,436 : INFO : training on 1928780 raw words (1546701 effective words) took 0.7s, 2102068 effective words/s\n"
     ]
    },
    {
     "name": "stdout",
     "output_type": "stream",
     "text": [
      "len(X_vect): 34613\n"
     ]
    }
   ],
   "source": [
    "vect = Seq2WordVecTransformer()\n",
    "X_vect = vect.fit_transform(X, verbose='debug')\n",
    "print ('len(X_vect):', len(X_vect))\n",
    "#for i in range(5):\n",
    "#    print (i, X_vect[i])"
   ]
  },
  {
   "cell_type": "code",
   "execution_count": 7,
   "metadata": {},
   "outputs": [
    {
     "name": "stdout",
     "output_type": "stream",
     "text": [
      "24229 Training examples, 10384 Testing examples\n"
     ]
    }
   ],
   "source": [
    "from ttk.preprocessing import Seq2IndexTransformer\n",
    "\n",
    "indexer = Seq2IndexTransformer(add_delimiters=False)\n",
    "pad = SeqPaddingTransformer()\n",
    "\n",
    "#X_vect = vect.fit_transform(X)\n",
    "X_indexed = indexer.fit_transform(X)\n",
    "X_pad = pad.fit_transform(X_indexed)\n",
    "\n",
    "# split\n",
    "X_train, X_test, y_train, y_test = train_test_split(X_pad, y, test_size=0.3, random_state=0)\n",
    "print ('%i Training examples, %i Testing examples' % (len(X_train), len(X_test)))"
   ]
  },
  {
   "cell_type": "code",
   "execution_count": 8,
   "metadata": {},
   "outputs": [
    {
     "name": "stdout",
     "output_type": "stream",
     "text": [
      "(24229, 32)\n"
     ]
    }
   ],
   "source": [
    "print (X_train.shape)"
   ]
  },
  {
   "cell_type": "code",
   "execution_count": 9,
   "metadata": {},
   "outputs": [
    {
     "name": "stdout",
     "output_type": "stream",
     "text": [
      "t0 type: <class 'numpy.float64'>\n",
      "False\n",
      "dim ()\n"
     ]
    }
   ],
   "source": [
    "seq = X_train[0]\n",
    "t0 = seq[0]\n",
    "print ('t0 type:', type(t0))\n",
    "\n",
    "print (type(t0) is type(np.ndarray(1)))\n",
    "print ('dim', t0.shape)"
   ]
  },
  {
   "cell_type": "code",
   "execution_count": 10,
   "metadata": {},
   "outputs": [
    {
     "name": "stderr",
     "output_type": "stream",
     "text": [
      "Using cuDNN version 5110 on context None\n",
      "Mapped name None to device cuda0: GeForce GTX 1080 Ti (0000:01:00.0)\n"
     ]
    }
   ],
   "source": [
    "from ttk.sandbox.udemy import SimpleRNNClassifier\n",
    "\n",
    "N, t = X_train.shape\n",
    "\n",
    "Y_t = np.zeros(X_train.shape, dtype=np.int32)\n",
    "for n in range(N):\n",
    "    for i in range(t):\n",
    "        if i == t - 1:\n",
    "            Y_t[n, i] = int(y_train[n])\n",
    "        else:\n",
    "            Y_t[n, i] = int(y_train[n])\n",
    "            \n",
    "X_train_shaped = X_train.reshape(N, t, 1).astype(np.float32)"
   ]
  },
  {
   "cell_type": "code",
   "execution_count": 14,
   "metadata": {
    "collapsed": true
   },
   "outputs": [],
   "source": [
    "def words_and_class_labels(X, y):\n",
    "    N, t = X.shape\n",
    "    Y_t = np.zeros(X.shape, dtype=np.int32)\n",
    "    for n in range(N):\n",
    "        for i in range(t):\n",
    "            if i == t-1:\n",
    "                Y_t[n, i] = float(y[n])\n",
    "            else:\n",
    "                Y_t[n, i] = float(X[n, i+1])\n",
    "    X_shaped = X.reshape(N, t, 1).astype(np.float32)\n",
    "    \n",
    "    return X_shaped, Y_t\n",
    "    \n",
    "    \n",
    "def only_class_labels(X, y):\n",
    "    N, t = X.shape\n",
    "    Y_t = np.zeros(X.shape, dtype=np.int32)\n",
    "    for n in range(N):\n",
    "        for i in range(t):\n",
    "            Y_t[n, i] = int(y[n])\n",
    "    X_shaped = X.reshape(N, t, 1).astype(np.float32)"
   ]
  },
  {
   "cell_type": "code",
   "execution_count": 15,
   "metadata": {},
   "outputs": [
    {
     "name": "stdout",
     "output_type": "stream",
     "text": [
      "Y_t.shape: (24229, 32)\n",
      "X_train.shape: (24229, 32, 1)\n"
     ]
    }
   ],
   "source": [
    "X_t, Y_t = words_and_class_labels(X_train, y_train)\n",
    "\n",
    "print ('Y_t.shape:', Y_t.shape)\n",
    "print ('X_train.shape:', X_t.shape)"
   ]
  },
  {
   "cell_type": "code",
   "execution_count": 17,
   "metadata": {},
   "outputs": [
    {
     "name": "stdout",
     "output_type": "stream",
     "text": [
      "[[ 3423.]\n",
      " [ 2199.]\n",
      " [  776.]\n",
      " [ 1098.]\n",
      " [    0.]\n",
      " [    0.]\n",
      " [    0.]\n",
      " [    0.]\n",
      " [    0.]\n",
      " [    0.]\n",
      " [    0.]\n",
      " [    0.]\n",
      " [    0.]\n",
      " [    0.]\n",
      " [    0.]\n",
      " [    0.]\n",
      " [    0.]\n",
      " [    0.]\n",
      " [    0.]\n",
      " [    0.]\n",
      " [    0.]\n",
      " [    0.]\n",
      " [    0.]\n",
      " [    0.]\n",
      " [    0.]\n",
      " [    0.]\n",
      " [    0.]\n",
      " [    0.]\n",
      " [    0.]\n",
      " [    0.]\n",
      " [    0.]\n",
      " [    0.]]\n",
      "[[  160.]\n",
      " [   51.]\n",
      " [ 2123.]\n",
      " [   65.]\n",
      " [ 6957.]\n",
      " [ 2055.]\n",
      " [ 1805.]\n",
      " [  164.]\n",
      " [   24.]\n",
      " [   96.]\n",
      " [ 1587.]\n",
      " [ 5524.]\n",
      " [    0.]\n",
      " [    0.]\n",
      " [    0.]\n",
      " [    0.]\n",
      " [    0.]\n",
      " [    0.]\n",
      " [    0.]\n",
      " [    0.]\n",
      " [    0.]\n",
      " [    0.]\n",
      " [    0.]\n",
      " [    0.]\n",
      " [    0.]\n",
      " [    0.]\n",
      " [    0.]\n",
      " [    0.]\n",
      " [    0.]\n",
      " [    0.]\n",
      " [    0.]\n",
      " [    0.]]\n",
      "[[  7.30000000e+01]\n",
      " [  2.80000000e+01]\n",
      " [  8.90000000e+01]\n",
      " [  7.11000000e+02]\n",
      " [  6.00000000e+00]\n",
      " [  1.92600000e+03]\n",
      " [  1.79100000e+04]\n",
      " [  1.28570000e+04]\n",
      " [  9.25000000e+02]\n",
      " [  2.40000000e+01]\n",
      " [  2.80000000e+01]\n",
      " [  1.28900000e+04]\n",
      " [  2.80000000e+01]\n",
      " [  1.70940000e+04]\n",
      " [  0.00000000e+00]\n",
      " [  0.00000000e+00]\n",
      " [  0.00000000e+00]\n",
      " [  0.00000000e+00]\n",
      " [  0.00000000e+00]\n",
      " [  0.00000000e+00]\n",
      " [  0.00000000e+00]\n",
      " [  0.00000000e+00]\n",
      " [  0.00000000e+00]\n",
      " [  0.00000000e+00]\n",
      " [  0.00000000e+00]\n",
      " [  0.00000000e+00]\n",
      " [  0.00000000e+00]\n",
      " [  0.00000000e+00]\n",
      " [  0.00000000e+00]\n",
      " [  0.00000000e+00]\n",
      " [  0.00000000e+00]\n",
      " [  0.00000000e+00]]\n",
      "[[ 1063.]\n",
      " [   46.]\n",
      " [ 1847.]\n",
      " [  789.]\n",
      " [ 2879.]\n",
      " [ 2849.]\n",
      " [    6.]\n",
      " [ 4027.]\n",
      " [  526.]\n",
      " [ 1316.]\n",
      " [    0.]\n",
      " [    0.]\n",
      " [    0.]\n",
      " [    0.]\n",
      " [    0.]\n",
      " [    0.]\n",
      " [    0.]\n",
      " [    0.]\n",
      " [    0.]\n",
      " [    0.]\n",
      " [    0.]\n",
      " [    0.]\n",
      " [    0.]\n",
      " [    0.]\n",
      " [    0.]\n",
      " [    0.]\n",
      " [    0.]\n",
      " [    0.]\n",
      " [    0.]\n",
      " [    0.]\n",
      " [    0.]\n",
      " [    0.]]\n",
      "[[  2.00000000e+00]\n",
      " [  1.08500000e+03]\n",
      " [  4.60000000e+01]\n",
      " [  7.30000000e+01]\n",
      " [  2.80000000e+01]\n",
      " [  8.90000000e+01]\n",
      " [  8.25000000e+02]\n",
      " [  1.00000000e+01]\n",
      " [  4.02000000e+02]\n",
      " [  1.90000000e+01]\n",
      " [  1.68840000e+04]\n",
      " [  2.00000000e+00]\n",
      " [  0.00000000e+00]\n",
      " [  0.00000000e+00]\n",
      " [  0.00000000e+00]\n",
      " [  0.00000000e+00]\n",
      " [  0.00000000e+00]\n",
      " [  0.00000000e+00]\n",
      " [  0.00000000e+00]\n",
      " [  0.00000000e+00]\n",
      " [  0.00000000e+00]\n",
      " [  0.00000000e+00]\n",
      " [  0.00000000e+00]\n",
      " [  0.00000000e+00]\n",
      " [  0.00000000e+00]\n",
      " [  0.00000000e+00]\n",
      " [  0.00000000e+00]\n",
      " [  0.00000000e+00]\n",
      " [  0.00000000e+00]\n",
      " [  0.00000000e+00]\n",
      " [  0.00000000e+00]\n",
      " [  0.00000000e+00]]\n",
      "[[   92.]\n",
      " [   43.]\n",
      " [  803.]\n",
      " [   10.]\n",
      " [ 4287.]\n",
      " [ 1248.]\n",
      " [   43.]\n",
      " [ 2771.]\n",
      " [   65.]\n",
      " [   37.]\n",
      " [ 1971.]\n",
      " [   10.]\n",
      " [ 7003.]\n",
      " [    0.]\n",
      " [    0.]\n",
      " [    0.]\n",
      " [    0.]\n",
      " [    0.]\n",
      " [    0.]\n",
      " [    0.]\n",
      " [    0.]\n",
      " [    0.]\n",
      " [    0.]\n",
      " [    0.]\n",
      " [    0.]\n",
      " [    0.]\n",
      " [    0.]\n",
      " [    0.]\n",
      " [    0.]\n",
      " [    0.]\n",
      " [    0.]\n",
      " [    0.]]\n"
     ]
    }
   ],
   "source": [
    "for i in range(6):\n",
    "    print (X_t[i])"
   ]
  },
  {
   "cell_type": "code",
   "execution_count": 16,
   "metadata": {},
   "outputs": [
    {
     "name": "stdout",
     "output_type": "stream",
     "text": [
      "iteration: 0\n",
      "X[j]: [[  485.]\n",
      " [  146.]\n",
      " [ 1224.]\n",
      " [  146.]\n",
      " [   33.]\n",
      " [ 5952.]\n",
      " [  206.]\n",
      " [   28.]\n",
      " [ 3592.]\n",
      " [ 2747.]\n",
      " [   28.]\n",
      " [   72.]\n",
      " [ 2686.]\n",
      " [   16.]\n",
      " [ 3174.]\n",
      " [ 9365.]\n",
      " [    0.]\n",
      " [    0.]\n",
      " [    0.]\n",
      " [    0.]\n",
      " [    0.]\n",
      " [    0.]\n",
      " [    0.]\n",
      " [    0.]\n",
      " [    0.]\n",
      " [    0.]\n",
      " [    0.]\n",
      " [    0.]\n",
      " [    0.]\n",
      " [    0.]\n",
      " [    0.]\n",
      " [    0.]] Y[j]: [ 146 1224  146   33 5952  206   28 3592 2747   28   72 2686   16 3174 9365\n",
      "    0    0    0    0    0    0    0    0    0    0    0    0    0    0    0\n",
      "    0    1]\n",
      "c: 9.76809047784846\n",
      "p[-1]: 17134 Y[j,-1]: 1\n",
      "X[j]: [[  2.00000000e+00]\n",
      " [  7.68900000e+03]\n",
      " [  1.90000000e+01]\n",
      " [  1.15700000e+04]\n",
      " [  1.44900000e+03]\n",
      " [  8.56000000e+02]\n",
      " [  9.32200000e+03]\n",
      " [  2.40000000e+01]\n",
      " [  2.93000000e+02]\n",
      " [  9.82000000e+02]\n",
      " [  2.00000000e+00]\n",
      " [  0.00000000e+00]\n",
      " [  0.00000000e+00]\n",
      " [  0.00000000e+00]\n",
      " [  0.00000000e+00]\n",
      " [  0.00000000e+00]\n",
      " [  0.00000000e+00]\n",
      " [  0.00000000e+00]\n",
      " [  0.00000000e+00]\n",
      " [  0.00000000e+00]\n",
      " [  0.00000000e+00]\n",
      " [  0.00000000e+00]\n",
      " [  0.00000000e+00]\n",
      " [  0.00000000e+00]\n",
      " [  0.00000000e+00]\n",
      " [  0.00000000e+00]\n",
      " [  0.00000000e+00]\n",
      " [  0.00000000e+00]\n",
      " [  0.00000000e+00]\n",
      " [  0.00000000e+00]\n",
      " [  0.00000000e+00]\n",
      " [  0.00000000e+00]] Y[j]: [ 7689    19 11570  1449   856  9322    24   293   982     2     0     0\n",
      "     0     0     0     0     0     0     0     0     0     0     0     0\n",
      "     0     0     0     0     0     0     0     0]\n",
      "c: 9.420943056877515\n",
      "p[-1]: 0 Y[j,-1]: 0\n",
      "X[j]: [[  7075.]\n",
      " [   208.]\n",
      " [   209.]\n",
      " [ 11172.]\n",
      " [    46.]\n",
      " [  6116.]\n",
      " [    94.]\n",
      " [   449.]\n",
      " [ 11173.]\n",
      " [     0.]\n",
      " [     0.]\n",
      " [     0.]\n",
      " [     0.]\n",
      " [     0.]\n",
      " [     0.]\n",
      " [     0.]\n",
      " [     0.]\n",
      " [     0.]\n",
      " [     0.]\n",
      " [     0.]\n",
      " [     0.]\n",
      " [     0.]\n",
      " [     0.]\n",
      " [     0.]\n",
      " [     0.]\n",
      " [     0.]\n",
      " [     0.]\n",
      " [     0.]\n",
      " [     0.]\n",
      " [     0.]\n",
      " [     0.]\n",
      " [     0.]] Y[j]: [  208   209 11172    46  6116    94   449 11173     0     0     0     0\n",
      "     0     0     0     0     0     0     0     0     0     0     0     0\n",
      "     0     0     0     0     0     0     0     0]\n",
      "c: 8.44972147259385\n",
      "p[-1]: 0 Y[j,-1]: 0\n",
      "X[j]: [[  2.00000000e+00]\n",
      " [  1.06300000e+03]\n",
      " [  2.40000000e+01]\n",
      " [  3.98300000e+03]\n",
      " [  2.66000000e+02]\n",
      " [  4.30000000e+01]\n",
      " [  2.26100000e+03]\n",
      " [  6.28500000e+03]\n",
      " [  3.82000000e+02]\n",
      " [  2.09080000e+04]\n",
      " [  4.30000000e+01]\n",
      " [  3.50500000e+03]\n",
      " [  1.90000000e+01]\n",
      " [  2.01900000e+03]\n",
      " [  7.45200000e+03]\n",
      " [  2.82000000e+02]\n",
      " [  2.40000000e+01]\n",
      " [  3.70000000e+01]\n",
      " [  3.81000000e+02]\n",
      " [  2.80000000e+01]\n",
      " [  8.90000000e+01]\n",
      " [  7.22600000e+03]\n",
      " [  2.09090000e+04]\n",
      " [  2.89100000e+03]\n",
      " [  2.00000000e+00]\n",
      " [  0.00000000e+00]\n",
      " [  0.00000000e+00]\n",
      " [  0.00000000e+00]\n",
      " [  0.00000000e+00]\n",
      " [  0.00000000e+00]\n",
      " [  0.00000000e+00]\n",
      " [  0.00000000e+00]] Y[j]: [ 1063    24  3983   266    43  2261  6285   382 20908    43  3505    19\n",
      "  2019  7452   282    24    37   381    28    89  7226 20909  2891     2\n",
      "     0     0     0     0     0     0     0     1]\n"
     ]
    },
    {
     "ename": "IndexError",
     "evalue": "index 20908 is out of bounds for axis 1 with size 17485\nApply node that caused the error: AdvancedIncSubtensor{inplace=False,  set_instead_of_inc=False}(Alloc.0, HostFromGpu(gpuarray).0, ARange{dtype='int64'}.0, Y)\nToposort index: 165\nInputs types: [TensorType(float64, matrix), TensorType(float64, vector), TensorType(int64, vector), TensorType(int32, vector)]\nInputs shapes: [(32, 17485), (32,), (32,), (32,)]\nInputs strides: [(139880, 8), (8,), (8,), (4,)]\nInputs values: ['not shown', 'not shown', 'not shown', 'not shown']\nOutputs clients: [[GpuFromHost<None>(AdvancedIncSubtensor{inplace=False,  set_instead_of_inc=False}.0)]]\n\nBacktrace when the node is created(use Theano flag traceback.limit=N to make it longer):\n  File \"S:\\Anaconda3\\lib\\site-packages\\theano\\gradient.py\", line 1272, in access_grad_cache\n    term = access_term_cache(node)[idx]\n  File \"S:\\Anaconda3\\lib\\site-packages\\theano\\gradient.py\", line 967, in access_term_cache\n    output_grads = [access_grad_cache(var) for var in node.outputs]\n  File \"S:\\Anaconda3\\lib\\site-packages\\theano\\gradient.py\", line 967, in <listcomp>\n    output_grads = [access_grad_cache(var) for var in node.outputs]\n  File \"S:\\Anaconda3\\lib\\site-packages\\theano\\gradient.py\", line 1272, in access_grad_cache\n    term = access_term_cache(node)[idx]\n  File \"S:\\Anaconda3\\lib\\site-packages\\theano\\gradient.py\", line 967, in access_term_cache\n    output_grads = [access_grad_cache(var) for var in node.outputs]\n  File \"S:\\Anaconda3\\lib\\site-packages\\theano\\gradient.py\", line 967, in <listcomp>\n    output_grads = [access_grad_cache(var) for var in node.outputs]\n  File \"S:\\Anaconda3\\lib\\site-packages\\theano\\gradient.py\", line 1272, in access_grad_cache\n    term = access_term_cache(node)[idx]\n  File \"S:\\Anaconda3\\lib\\site-packages\\theano\\gradient.py\", line 1108, in access_term_cache\n    new_output_grads)\n\nHINT: Use the Theano flag 'exception_verbosity=high' for a debugprint and storage map footprint of this apply node.",
     "output_type": "error",
     "traceback": [
      "\u001b[1;31m---------------------------------------------------------------------------\u001b[0m",
      "\u001b[1;31mIndexError\u001b[0m                                Traceback (most recent call last)",
      "\u001b[1;32mS:\\Anaconda3\\lib\\site-packages\\theano\\compile\\function_module.py\u001b[0m in \u001b[0;36m__call__\u001b[1;34m(self, *args, **kwargs)\u001b[0m\n\u001b[0;32m    883\u001b[0m             \u001b[0moutputs\u001b[0m \u001b[1;33m=\u001b[0m\u001b[0;31m\\\u001b[0m\u001b[1;33m\u001b[0m\u001b[0m\n\u001b[1;32m--> 884\u001b[1;33m                 \u001b[0mself\u001b[0m\u001b[1;33m.\u001b[0m\u001b[0mfn\u001b[0m\u001b[1;33m(\u001b[0m\u001b[1;33m)\u001b[0m \u001b[1;32mif\u001b[0m \u001b[0moutput_subset\u001b[0m \u001b[1;32mis\u001b[0m \u001b[1;32mNone\u001b[0m \u001b[1;32melse\u001b[0m\u001b[0;31m\\\u001b[0m\u001b[1;33m\u001b[0m\u001b[0m\n\u001b[0m\u001b[0;32m    885\u001b[0m                 \u001b[0mself\u001b[0m\u001b[1;33m.\u001b[0m\u001b[0mfn\u001b[0m\u001b[1;33m(\u001b[0m\u001b[0moutput_subset\u001b[0m\u001b[1;33m=\u001b[0m\u001b[0moutput_subset\u001b[0m\u001b[1;33m)\u001b[0m\u001b[1;33m\u001b[0m\u001b[0m\n",
      "\u001b[1;32mS:\\Anaconda3\\lib\\site-packages\\theano\\gof\\op.py\u001b[0m in \u001b[0;36mrval\u001b[1;34m(p, i, o, n)\u001b[0m\n\u001b[0;32m    871\u001b[0m             \u001b[1;32mdef\u001b[0m \u001b[0mrval\u001b[0m\u001b[1;33m(\u001b[0m\u001b[0mp\u001b[0m\u001b[1;33m=\u001b[0m\u001b[0mp\u001b[0m\u001b[1;33m,\u001b[0m \u001b[0mi\u001b[0m\u001b[1;33m=\u001b[0m\u001b[0mnode_input_storage\u001b[0m\u001b[1;33m,\u001b[0m \u001b[0mo\u001b[0m\u001b[1;33m=\u001b[0m\u001b[0mnode_output_storage\u001b[0m\u001b[1;33m,\u001b[0m \u001b[0mn\u001b[0m\u001b[1;33m=\u001b[0m\u001b[0mnode\u001b[0m\u001b[1;33m)\u001b[0m\u001b[1;33m:\u001b[0m\u001b[1;33m\u001b[0m\u001b[0m\n\u001b[1;32m--> 872\u001b[1;33m                 \u001b[0mr\u001b[0m \u001b[1;33m=\u001b[0m \u001b[0mp\u001b[0m\u001b[1;33m(\u001b[0m\u001b[0mn\u001b[0m\u001b[1;33m,\u001b[0m \u001b[1;33m[\u001b[0m\u001b[0mx\u001b[0m\u001b[1;33m[\u001b[0m\u001b[1;36m0\u001b[0m\u001b[1;33m]\u001b[0m \u001b[1;32mfor\u001b[0m \u001b[0mx\u001b[0m \u001b[1;32min\u001b[0m \u001b[0mi\u001b[0m\u001b[1;33m]\u001b[0m\u001b[1;33m,\u001b[0m \u001b[0mo\u001b[0m\u001b[1;33m)\u001b[0m\u001b[1;33m\u001b[0m\u001b[0m\n\u001b[0m\u001b[0;32m    873\u001b[0m                 \u001b[1;32mfor\u001b[0m \u001b[0mo\u001b[0m \u001b[1;32min\u001b[0m \u001b[0mnode\u001b[0m\u001b[1;33m.\u001b[0m\u001b[0moutputs\u001b[0m\u001b[1;33m:\u001b[0m\u001b[1;33m\u001b[0m\u001b[0m\n",
      "\u001b[1;32mS:\\Anaconda3\\lib\\site-packages\\theano\\tensor\\subtensor.py\u001b[0m in \u001b[0;36mperform\u001b[1;34m(self, node, inputs, out_)\u001b[0m\n\u001b[0;32m   2243\u001b[0m         \u001b[1;32melif\u001b[0m \u001b[0mconfig\u001b[0m\u001b[1;33m.\u001b[0m\u001b[0mcxx\u001b[0m\u001b[1;33m:\u001b[0m\u001b[1;33m\u001b[0m\u001b[0m\n\u001b[1;32m-> 2244\u001b[1;33m             \u001b[0minplace_increment\u001b[0m\u001b[1;33m(\u001b[0m\u001b[0mout\u001b[0m\u001b[1;33m[\u001b[0m\u001b[1;36m0\u001b[0m\u001b[1;33m]\u001b[0m\u001b[1;33m,\u001b[0m \u001b[0mtuple\u001b[0m\u001b[1;33m(\u001b[0m\u001b[0minputs\u001b[0m\u001b[1;33m[\u001b[0m\u001b[1;36m2\u001b[0m\u001b[1;33m:\u001b[0m\u001b[1;33m]\u001b[0m\u001b[1;33m)\u001b[0m\u001b[1;33m,\u001b[0m \u001b[0minputs\u001b[0m\u001b[1;33m[\u001b[0m\u001b[1;36m1\u001b[0m\u001b[1;33m]\u001b[0m\u001b[1;33m)\u001b[0m\u001b[1;33m\u001b[0m\u001b[0m\n\u001b[0m\u001b[0;32m   2245\u001b[0m         \u001b[1;32melse\u001b[0m\u001b[1;33m:\u001b[0m\u001b[1;33m\u001b[0m\u001b[0m\n",
      "\u001b[1;31mIndexError\u001b[0m: index 20908 is out of bounds for axis 1 with size 17485",
      "\nDuring handling of the above exception, another exception occurred:\n",
      "\u001b[1;31mIndexError\u001b[0m                                Traceback (most recent call last)",
      "\u001b[1;32m<ipython-input-16-a71f0b7ead28>\u001b[0m in \u001b[0;36m<module>\u001b[1;34m()\u001b[0m\n\u001b[0;32m      1\u001b[0m \u001b[0mclf\u001b[0m \u001b[1;33m=\u001b[0m \u001b[0mSimpleRNNClassifier\u001b[0m\u001b[1;33m(\u001b[0m\u001b[1;36m4\u001b[0m\u001b[1;33m)\u001b[0m\u001b[1;33m\u001b[0m\u001b[0m\n\u001b[1;32m----> 2\u001b[1;33m \u001b[0mclf\u001b[0m\u001b[1;33m.\u001b[0m\u001b[0mfit\u001b[0m\u001b[1;33m(\u001b[0m\u001b[0mX_t\u001b[0m\u001b[1;33m,\u001b[0m \u001b[0mY_t\u001b[0m\u001b[1;33m,\u001b[0m \u001b[0mshow_fig\u001b[0m\u001b[1;33m=\u001b[0m\u001b[1;32mTrue\u001b[0m\u001b[1;33m)\u001b[0m\u001b[1;33m\u001b[0m\u001b[0m\n\u001b[0m",
      "\u001b[1;32mS:\\git\\tacticsiege\\tactictoolkit\\ttk\\sandbox\\udemy\\SimpleRNNClassifier.py\u001b[0m in \u001b[0;36mfit\u001b[1;34m(self, X, Y, learning_rate, mu, reg, activation, epochs, show_fig)\u001b[0m\n\u001b[0;32m     93\u001b[0m                 \u001b[0mprint\u001b[0m \u001b[1;33m(\u001b[0m\u001b[1;34m'X[j]:'\u001b[0m\u001b[1;33m,\u001b[0m \u001b[0mX\u001b[0m\u001b[1;33m[\u001b[0m\u001b[0mj\u001b[0m\u001b[1;33m]\u001b[0m\u001b[1;33m,\u001b[0m \u001b[1;34m'Y[j]:'\u001b[0m\u001b[1;33m,\u001b[0m \u001b[0mY\u001b[0m\u001b[1;33m[\u001b[0m\u001b[0mj\u001b[0m\u001b[1;33m]\u001b[0m\u001b[1;33m)\u001b[0m\u001b[1;33m\u001b[0m\u001b[0m\n\u001b[0;32m     94\u001b[0m \u001b[1;33m\u001b[0m\u001b[0m\n\u001b[1;32m---> 95\u001b[1;33m                 \u001b[0mc\u001b[0m\u001b[1;33m,\u001b[0m \u001b[0mp\u001b[0m\u001b[1;33m,\u001b[0m \u001b[0mrout\u001b[0m \u001b[1;33m=\u001b[0m \u001b[0mself\u001b[0m\u001b[1;33m.\u001b[0m\u001b[0mtrain_op\u001b[0m\u001b[1;33m(\u001b[0m\u001b[0mX\u001b[0m\u001b[1;33m[\u001b[0m\u001b[0mj\u001b[0m\u001b[1;33m]\u001b[0m\u001b[1;33m,\u001b[0m \u001b[0mY\u001b[0m\u001b[1;33m[\u001b[0m\u001b[0mj\u001b[0m\u001b[1;33m]\u001b[0m\u001b[1;33m)\u001b[0m\u001b[1;33m\u001b[0m\u001b[0m\n\u001b[0m\u001b[0;32m     96\u001b[0m                 \u001b[0mprint\u001b[0m \u001b[1;33m(\u001b[0m\u001b[1;34m'c:'\u001b[0m\u001b[1;33m,\u001b[0m \u001b[0mc\u001b[0m\u001b[1;33m)\u001b[0m\u001b[1;33m\u001b[0m\u001b[0m\n\u001b[0;32m     97\u001b[0m                 \u001b[0mcost\u001b[0m \u001b[1;33m+=\u001b[0m \u001b[0mc\u001b[0m\u001b[1;33m\u001b[0m\u001b[0m\n",
      "\u001b[1;32mS:\\Anaconda3\\lib\\site-packages\\theano\\compile\\function_module.py\u001b[0m in \u001b[0;36m__call__\u001b[1;34m(self, *args, **kwargs)\u001b[0m\n\u001b[0;32m    896\u001b[0m                     \u001b[0mnode\u001b[0m\u001b[1;33m=\u001b[0m\u001b[0mself\u001b[0m\u001b[1;33m.\u001b[0m\u001b[0mfn\u001b[0m\u001b[1;33m.\u001b[0m\u001b[0mnodes\u001b[0m\u001b[1;33m[\u001b[0m\u001b[0mself\u001b[0m\u001b[1;33m.\u001b[0m\u001b[0mfn\u001b[0m\u001b[1;33m.\u001b[0m\u001b[0mposition_of_error\u001b[0m\u001b[1;33m]\u001b[0m\u001b[1;33m,\u001b[0m\u001b[1;33m\u001b[0m\u001b[0m\n\u001b[0;32m    897\u001b[0m                     \u001b[0mthunk\u001b[0m\u001b[1;33m=\u001b[0m\u001b[0mthunk\u001b[0m\u001b[1;33m,\u001b[0m\u001b[1;33m\u001b[0m\u001b[0m\n\u001b[1;32m--> 898\u001b[1;33m                     storage_map=getattr(self.fn, 'storage_map', None))\n\u001b[0m\u001b[0;32m    899\u001b[0m             \u001b[1;32melse\u001b[0m\u001b[1;33m:\u001b[0m\u001b[1;33m\u001b[0m\u001b[0m\n\u001b[0;32m    900\u001b[0m                 \u001b[1;31m# old-style linkers raise their own exceptions\u001b[0m\u001b[1;33m\u001b[0m\u001b[1;33m\u001b[0m\u001b[0m\n",
      "\u001b[1;32mS:\\Anaconda3\\lib\\site-packages\\theano\\gof\\link.py\u001b[0m in \u001b[0;36mraise_with_op\u001b[1;34m(node, thunk, exc_info, storage_map)\u001b[0m\n\u001b[0;32m    323\u001b[0m         \u001b[1;31m# extra long error message in that case.\u001b[0m\u001b[1;33m\u001b[0m\u001b[1;33m\u001b[0m\u001b[0m\n\u001b[0;32m    324\u001b[0m         \u001b[1;32mpass\u001b[0m\u001b[1;33m\u001b[0m\u001b[0m\n\u001b[1;32m--> 325\u001b[1;33m     \u001b[0mreraise\u001b[0m\u001b[1;33m(\u001b[0m\u001b[0mexc_type\u001b[0m\u001b[1;33m,\u001b[0m \u001b[0mexc_value\u001b[0m\u001b[1;33m,\u001b[0m \u001b[0mexc_trace\u001b[0m\u001b[1;33m)\u001b[0m\u001b[1;33m\u001b[0m\u001b[0m\n\u001b[0m\u001b[0;32m    326\u001b[0m \u001b[1;33m\u001b[0m\u001b[0m\n\u001b[0;32m    327\u001b[0m \u001b[1;33m\u001b[0m\u001b[0m\n",
      "\u001b[1;32mS:\\Anaconda3\\lib\\site-packages\\six.py\u001b[0m in \u001b[0;36mreraise\u001b[1;34m(tp, value, tb)\u001b[0m\n\u001b[0;32m    683\u001b[0m             \u001b[0mvalue\u001b[0m \u001b[1;33m=\u001b[0m \u001b[0mtp\u001b[0m\u001b[1;33m(\u001b[0m\u001b[1;33m)\u001b[0m\u001b[1;33m\u001b[0m\u001b[0m\n\u001b[0;32m    684\u001b[0m         \u001b[1;32mif\u001b[0m \u001b[0mvalue\u001b[0m\u001b[1;33m.\u001b[0m\u001b[0m__traceback__\u001b[0m \u001b[1;32mis\u001b[0m \u001b[1;32mnot\u001b[0m \u001b[0mtb\u001b[0m\u001b[1;33m:\u001b[0m\u001b[1;33m\u001b[0m\u001b[0m\n\u001b[1;32m--> 685\u001b[1;33m             \u001b[1;32mraise\u001b[0m \u001b[0mvalue\u001b[0m\u001b[1;33m.\u001b[0m\u001b[0mwith_traceback\u001b[0m\u001b[1;33m(\u001b[0m\u001b[0mtb\u001b[0m\u001b[1;33m)\u001b[0m\u001b[1;33m\u001b[0m\u001b[0m\n\u001b[0m\u001b[0;32m    686\u001b[0m         \u001b[1;32mraise\u001b[0m \u001b[0mvalue\u001b[0m\u001b[1;33m\u001b[0m\u001b[0m\n\u001b[0;32m    687\u001b[0m \u001b[1;33m\u001b[0m\u001b[0m\n",
      "\u001b[1;32mS:\\Anaconda3\\lib\\site-packages\\theano\\compile\\function_module.py\u001b[0m in \u001b[0;36m__call__\u001b[1;34m(self, *args, **kwargs)\u001b[0m\n\u001b[0;32m    882\u001b[0m         \u001b[1;32mtry\u001b[0m\u001b[1;33m:\u001b[0m\u001b[1;33m\u001b[0m\u001b[0m\n\u001b[0;32m    883\u001b[0m             \u001b[0moutputs\u001b[0m \u001b[1;33m=\u001b[0m\u001b[0;31m\\\u001b[0m\u001b[1;33m\u001b[0m\u001b[0m\n\u001b[1;32m--> 884\u001b[1;33m                 \u001b[0mself\u001b[0m\u001b[1;33m.\u001b[0m\u001b[0mfn\u001b[0m\u001b[1;33m(\u001b[0m\u001b[1;33m)\u001b[0m \u001b[1;32mif\u001b[0m \u001b[0moutput_subset\u001b[0m \u001b[1;32mis\u001b[0m \u001b[1;32mNone\u001b[0m \u001b[1;32melse\u001b[0m\u001b[0;31m\\\u001b[0m\u001b[1;33m\u001b[0m\u001b[0m\n\u001b[0m\u001b[0;32m    885\u001b[0m                 \u001b[0mself\u001b[0m\u001b[1;33m.\u001b[0m\u001b[0mfn\u001b[0m\u001b[1;33m(\u001b[0m\u001b[0moutput_subset\u001b[0m\u001b[1;33m=\u001b[0m\u001b[0moutput_subset\u001b[0m\u001b[1;33m)\u001b[0m\u001b[1;33m\u001b[0m\u001b[0m\n\u001b[0;32m    886\u001b[0m         \u001b[1;32mexcept\u001b[0m \u001b[0mException\u001b[0m\u001b[1;33m:\u001b[0m\u001b[1;33m\u001b[0m\u001b[0m\n",
      "\u001b[1;32mS:\\Anaconda3\\lib\\site-packages\\theano\\gof\\op.py\u001b[0m in \u001b[0;36mrval\u001b[1;34m(p, i, o, n)\u001b[0m\n\u001b[0;32m    870\u001b[0m             \u001b[1;31m# default arguments are stored in the closure of `rval`\u001b[0m\u001b[1;33m\u001b[0m\u001b[1;33m\u001b[0m\u001b[0m\n\u001b[0;32m    871\u001b[0m             \u001b[1;32mdef\u001b[0m \u001b[0mrval\u001b[0m\u001b[1;33m(\u001b[0m\u001b[0mp\u001b[0m\u001b[1;33m=\u001b[0m\u001b[0mp\u001b[0m\u001b[1;33m,\u001b[0m \u001b[0mi\u001b[0m\u001b[1;33m=\u001b[0m\u001b[0mnode_input_storage\u001b[0m\u001b[1;33m,\u001b[0m \u001b[0mo\u001b[0m\u001b[1;33m=\u001b[0m\u001b[0mnode_output_storage\u001b[0m\u001b[1;33m,\u001b[0m \u001b[0mn\u001b[0m\u001b[1;33m=\u001b[0m\u001b[0mnode\u001b[0m\u001b[1;33m)\u001b[0m\u001b[1;33m:\u001b[0m\u001b[1;33m\u001b[0m\u001b[0m\n\u001b[1;32m--> 872\u001b[1;33m                 \u001b[0mr\u001b[0m \u001b[1;33m=\u001b[0m \u001b[0mp\u001b[0m\u001b[1;33m(\u001b[0m\u001b[0mn\u001b[0m\u001b[1;33m,\u001b[0m \u001b[1;33m[\u001b[0m\u001b[0mx\u001b[0m\u001b[1;33m[\u001b[0m\u001b[1;36m0\u001b[0m\u001b[1;33m]\u001b[0m \u001b[1;32mfor\u001b[0m \u001b[0mx\u001b[0m \u001b[1;32min\u001b[0m \u001b[0mi\u001b[0m\u001b[1;33m]\u001b[0m\u001b[1;33m,\u001b[0m \u001b[0mo\u001b[0m\u001b[1;33m)\u001b[0m\u001b[1;33m\u001b[0m\u001b[0m\n\u001b[0m\u001b[0;32m    873\u001b[0m                 \u001b[1;32mfor\u001b[0m \u001b[0mo\u001b[0m \u001b[1;32min\u001b[0m \u001b[0mnode\u001b[0m\u001b[1;33m.\u001b[0m\u001b[0moutputs\u001b[0m\u001b[1;33m:\u001b[0m\u001b[1;33m\u001b[0m\u001b[0m\n\u001b[0;32m    874\u001b[0m                     \u001b[0mcompute_map\u001b[0m\u001b[1;33m[\u001b[0m\u001b[0mo\u001b[0m\u001b[1;33m]\u001b[0m\u001b[1;33m[\u001b[0m\u001b[1;36m0\u001b[0m\u001b[1;33m]\u001b[0m \u001b[1;33m=\u001b[0m \u001b[1;32mTrue\u001b[0m\u001b[1;33m\u001b[0m\u001b[0m\n",
      "\u001b[1;32mS:\\Anaconda3\\lib\\site-packages\\theano\\tensor\\subtensor.py\u001b[0m in \u001b[0;36mperform\u001b[1;34m(self, node, inputs, out_)\u001b[0m\n\u001b[0;32m   2242\u001b[0m             \u001b[0mout\u001b[0m\u001b[1;33m[\u001b[0m\u001b[1;36m0\u001b[0m\u001b[1;33m]\u001b[0m\u001b[1;33m[\u001b[0m\u001b[0minputs\u001b[0m\u001b[1;33m[\u001b[0m\u001b[1;36m2\u001b[0m\u001b[1;33m:\u001b[0m\u001b[1;33m]\u001b[0m\u001b[1;33m]\u001b[0m \u001b[1;33m=\u001b[0m \u001b[0minputs\u001b[0m\u001b[1;33m[\u001b[0m\u001b[1;36m1\u001b[0m\u001b[1;33m]\u001b[0m\u001b[1;33m\u001b[0m\u001b[0m\n\u001b[0;32m   2243\u001b[0m         \u001b[1;32melif\u001b[0m \u001b[0mconfig\u001b[0m\u001b[1;33m.\u001b[0m\u001b[0mcxx\u001b[0m\u001b[1;33m:\u001b[0m\u001b[1;33m\u001b[0m\u001b[0m\n\u001b[1;32m-> 2244\u001b[1;33m             \u001b[0minplace_increment\u001b[0m\u001b[1;33m(\u001b[0m\u001b[0mout\u001b[0m\u001b[1;33m[\u001b[0m\u001b[1;36m0\u001b[0m\u001b[1;33m]\u001b[0m\u001b[1;33m,\u001b[0m \u001b[0mtuple\u001b[0m\u001b[1;33m(\u001b[0m\u001b[0minputs\u001b[0m\u001b[1;33m[\u001b[0m\u001b[1;36m2\u001b[0m\u001b[1;33m:\u001b[0m\u001b[1;33m]\u001b[0m\u001b[1;33m)\u001b[0m\u001b[1;33m,\u001b[0m \u001b[0minputs\u001b[0m\u001b[1;33m[\u001b[0m\u001b[1;36m1\u001b[0m\u001b[1;33m]\u001b[0m\u001b[1;33m)\u001b[0m\u001b[1;33m\u001b[0m\u001b[0m\n\u001b[0m\u001b[0;32m   2245\u001b[0m         \u001b[1;32melse\u001b[0m\u001b[1;33m:\u001b[0m\u001b[1;33m\u001b[0m\u001b[0m\n\u001b[0;32m   2246\u001b[0m             raise NotImplementedError(\n",
      "\u001b[1;31mIndexError\u001b[0m: index 20908 is out of bounds for axis 1 with size 17485\nApply node that caused the error: AdvancedIncSubtensor{inplace=False,  set_instead_of_inc=False}(Alloc.0, HostFromGpu(gpuarray).0, ARange{dtype='int64'}.0, Y)\nToposort index: 165\nInputs types: [TensorType(float64, matrix), TensorType(float64, vector), TensorType(int64, vector), TensorType(int32, vector)]\nInputs shapes: [(32, 17485), (32,), (32,), (32,)]\nInputs strides: [(139880, 8), (8,), (8,), (4,)]\nInputs values: ['not shown', 'not shown', 'not shown', 'not shown']\nOutputs clients: [[GpuFromHost<None>(AdvancedIncSubtensor{inplace=False,  set_instead_of_inc=False}.0)]]\n\nBacktrace when the node is created(use Theano flag traceback.limit=N to make it longer):\n  File \"S:\\Anaconda3\\lib\\site-packages\\theano\\gradient.py\", line 1272, in access_grad_cache\n    term = access_term_cache(node)[idx]\n  File \"S:\\Anaconda3\\lib\\site-packages\\theano\\gradient.py\", line 967, in access_term_cache\n    output_grads = [access_grad_cache(var) for var in node.outputs]\n  File \"S:\\Anaconda3\\lib\\site-packages\\theano\\gradient.py\", line 967, in <listcomp>\n    output_grads = [access_grad_cache(var) for var in node.outputs]\n  File \"S:\\Anaconda3\\lib\\site-packages\\theano\\gradient.py\", line 1272, in access_grad_cache\n    term = access_term_cache(node)[idx]\n  File \"S:\\Anaconda3\\lib\\site-packages\\theano\\gradient.py\", line 967, in access_term_cache\n    output_grads = [access_grad_cache(var) for var in node.outputs]\n  File \"S:\\Anaconda3\\lib\\site-packages\\theano\\gradient.py\", line 967, in <listcomp>\n    output_grads = [access_grad_cache(var) for var in node.outputs]\n  File \"S:\\Anaconda3\\lib\\site-packages\\theano\\gradient.py\", line 1272, in access_grad_cache\n    term = access_term_cache(node)[idx]\n  File \"S:\\Anaconda3\\lib\\site-packages\\theano\\gradient.py\", line 1108, in access_term_cache\n    new_output_grads)\n\nHINT: Use the Theano flag 'exception_verbosity=high' for a debugprint and storage map footprint of this apply node."
     ]
    }
   ],
   "source": [
    "clf = SimpleRNNClassifier(4)\n",
    "clf.fit(X_t, Y_t, show_fig=True)"
   ]
  },
  {
   "cell_type": "code",
   "execution_count": null,
   "metadata": {
    "collapsed": true
   },
   "outputs": [],
   "source": []
  }
 ],
 "metadata": {
  "kernelspec": {
   "display_name": "Python 3",
   "language": "python",
   "name": "python3"
  },
  "language_info": {
   "codemirror_mode": {
    "name": "ipython",
    "version": 3
   },
   "file_extension": ".py",
   "mimetype": "text/x-python",
   "name": "python",
   "nbconvert_exporter": "python",
   "pygments_lexer": "ipython3",
   "version": "3.6.2"
  }
 },
 "nbformat": 4,
 "nbformat_minor": 2
}
