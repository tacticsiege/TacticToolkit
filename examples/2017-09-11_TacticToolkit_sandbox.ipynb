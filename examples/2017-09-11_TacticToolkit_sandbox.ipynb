{
 "cells": [
  {
   "cell_type": "code",
   "execution_count": 1,
   "metadata": {},
   "outputs": [],
   "source": [
    "import sys\n",
    "sys.path.insert(0, '..')\n",
    "import ttk"
   ]
  },
  {
   "cell_type": "code",
   "execution_count": 2,
   "metadata": {},
   "outputs": [],
   "source": [
    "from ttk.corpus import load_headline_corpus\n",
    "\n",
    "corpus = load_headline_corpus()"
   ]
  },
  {
   "cell_type": "code",
   "execution_count": 3,
   "metadata": {},
   "outputs": [
    {
     "data": {
      "text/plain": [
       "2906"
      ]
     },
     "execution_count": 3,
     "metadata": {},
     "output_type": "execute_result"
    }
   ],
   "source": [
    "len(corpus.sents(dates=['2017-06-13']))"
   ]
  },
  {
   "cell_type": "code",
   "execution_count": 4,
   "metadata": {},
   "outputs": [
    {
     "name": "stdout",
     "output_type": "stream",
     "text": [
      "Russia Today\n",
      "Economist\n",
      "BBC\n",
      "NPR\n",
      "CNN\n",
      "Fox News\n",
      "Huffington Post\n",
      "Reuters\n",
      "Wall Street Journal\n",
      "ABC News\n",
      "Slate\n",
      "The New Yorker\n",
      "CBS News\n",
      "Al Jazeera\n",
      "Business Insider\n",
      "Breitbart\n",
      "Associated Press\n",
      "The Independent\n",
      "CNBC\n",
      "The Guardian\n",
      "Evening Standard\n",
      "New York Times\n",
      "Boston Globe\n",
      "Weekly Standard\n",
      "The Atlantic\n",
      "Washington Post\n"
     ]
    }
   ],
   "source": [
    "for cat in corpus.categories():\n",
    "    print (cat)"
   ]
  },
  {
   "cell_type": "code",
   "execution_count": null,
   "metadata": {
    "collapsed": true
   },
   "outputs": [],
   "source": []
  }
 ],
 "metadata": {
  "kernelspec": {
   "display_name": "Python 3",
   "language": "python",
   "name": "python3"
  },
  "language_info": {
   "codemirror_mode": {
    "name": "ipython",
    "version": 3
   },
   "file_extension": ".py",
   "mimetype": "text/x-python",
   "name": "python",
   "nbconvert_exporter": "python",
   "pygments_lexer": "ipython3",
   "version": "3.6.2"
  }
 },
 "nbformat": 4,
 "nbformat_minor": 2
}
