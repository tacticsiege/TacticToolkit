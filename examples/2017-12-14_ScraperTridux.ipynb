{
 "cells": [
  {
   "cell_type": "code",
   "execution_count": 1,
   "metadata": {
    "collapsed": true
   },
   "outputs": [],
   "source": [
    "import requests\n",
    "from bs4 import BeautifulSoup\n",
    "import pathlib\n",
    "import os"
   ]
  },
  {
   "cell_type": "code",
   "execution_count": 8,
   "metadata": {
    "collapsed": true
   },
   "outputs": [],
   "source": [
    "# Create BeautifulSoup object from website\n",
    "def load_soup(url):\n",
    "    page = requests.get(url)\n",
    "    soup = BeautifulSoup(page.content, 'html.parser')\n",
    "    return soup\n",
    "\n",
    "# site galleries contain tables for individual tilesets\n",
    "def get_tileset_tables(soup, page):\n",
    "    if page == 'two-corner':\n",
    "        # 2-corner        \n",
    "        tables = get_two_corner_tileset_tables(soup)\n",
    "    elif page == 'block':\n",
    "        tables = get_block_tileset_tables(soup)\n",
    "        \n",
    "    for t in tables:\n",
    "        yield t\n",
    "    \n",
    "def get_two_corner_tileset_tables(soup):\n",
    "    return (soup\n",
    "            .find_all('table')[3]\n",
    "            .find('table')\n",
    "            .find_all('table'))\n",
    "\n",
    "def get_block_tileset_tables(soup):\n",
    "    return (soup\n",
    "            .find_all('table')[4]\n",
    "           .find('table')\n",
    "           .find_all('table'))"
   ]
  },
  {
   "cell_type": "code",
   "execution_count": 30,
   "metadata": {
    "collapsed": true
   },
   "outputs": [],
   "source": [
    "def get_set_name(table):\n",
    "    name = table.find('caption').text.strip().replace('*', '')\n",
    "    return name\n",
    "\n",
    "def get_block_rows(table):\n",
    "    rows = table.find_all('tr')\n",
    "    for r in rows[1:]:\n",
    "        yield r\n",
    "        \n",
    "def get_block_cells(row):\n",
    "    cells = row.find_all('td')\n",
    "    return cells\n",
    "\n",
    "def get_image_addresses(table):\n",
    "    imgs = table.find_all('img')\n",
    "    for i in imgs:\n",
    "        address = fixRelativeUrl(i.attrs['src'])\n",
    "        yield address\n",
    "    \n",
    "def fixRelativeUrl(url):\n",
    "    # HACK: for these we go up a level\n",
    "    return url.replace('..', 'http://cr31.co.uk/stagecast')"
   ]
  },
  {
   "cell_type": "code",
   "execution_count": 22,
   "metadata": {
    "collapsed": true
   },
   "outputs": [],
   "source": [
    "def get_formatted_tilename(url, set_dir):\n",
    "    # find just the filename\n",
    "    s = url.split('/')[-1]\n",
    "    num = int(s.split('.')[0])\n",
    "    # keep leading zeros for 3 digits\n",
    "    formatted = set_dir + '/' + '{:0>3d}.gif'.format(num)\n",
    "    return formatted\n",
    "\n",
    "def download_tile(url, set_dir, verbose=False):\n",
    "    response = requests.get(url)\n",
    "    if response.status_code == 200:\n",
    "        filename = get_formatted_tilename(url)\n",
    "        save_image(response.content, filename, verbose)\n",
    "    else:\n",
    "        print ('Bad response code:', response.status_code, 'for', url)\n",
    "        \n",
    "def save_image(content, filename, verbose=False):\n",
    "    with open(filename, 'wb') as f:\n",
    "        f.write(content)\n",
    "        if verbose:\n",
    "            print ('Saved', filename)"
   ]
  },
  {
   "cell_type": "code",
   "execution_count": 23,
   "metadata": {
    "collapsed": true
   },
   "outputs": [],
   "source": [
    "targets = {'two-corner':'http://cr31.co.uk/stagecast/wang/tiles_c.html',\n",
    "           'block':'http://cr31.co.uk/stagecast/wang/block_g.html'}"
   ]
  },
  {
   "cell_type": "code",
   "execution_count": 24,
   "metadata": {},
   "outputs": [
    {
     "name": "stdout",
     "output_type": "stream",
     "text": [
      "two-corner http://cr31.co.uk/stagecast/wang/tiles_c.html\n",
      "block http://cr31.co.uk/stagecast/wang/block_g.html\n"
     ]
    }
   ],
   "source": [
    "for k, v in targets.items():\n",
    "    print (k, v)"
   ]
  },
  {
   "cell_type": "code",
   "execution_count": 34,
   "metadata": {},
   "outputs": [
    {
     "name": "stdout",
     "output_type": "stream",
     "text": [
      "Truchet Tiles\n",
      "Tru1(2) ../art/truch/tru1/0.gif\n",
      "Tru2(2) ../art/truch/tru2/0.gif\n",
      "Tru3(2) ../art/truch/tru3/0.gif\n",
      "Tru4(2) ../art/truch/tru4/0.gif\n",
      "Tru5(2) ../art/truch/tru5/0.gif\n",
      "Squeel(2) ../art/truch/tru6/0.gif\n",
      "Tru7(4) ../art/truch/tru7/0.gif\n",
      "Tru8(4) ../art/truch/tru8/0.gif\n",
      "Block2 Tiles\n",
      "Bloc ../art/block/bloc/0.gif\n",
      "Bloc ../art/block/bloc/1.gif\n",
      "Bowtie ../art/block/bowtie/0.gif\n",
      "Bowtie ../art/block/bowtie/1.gif\n",
      "Diag ../art/block/diag/0.gif\n",
      "Diag ../art/block/diag/1.gif\n",
      "Pool ../art/block/pool/0.gif\n",
      "Pool ../art/block/pool/1.gif\n",
      "Spiral ../art/block/spiral/0.gif\n",
      "Spiral ../art/block/spiral/1.gif\n",
      "Square ../art/block/square/0.gif\n",
      "Square ../art/block/square/1.gif\n",
      "Steps ../art/block/steps/0.gif\n",
      "Steps ../art/block/steps/1.gif\n",
      "1edgeA ../art/block/1edge2a/0.gif\n",
      "1edgeA ../art/block/1edge2a/1.gif\n",
      "1cornA ../art/block/1corn2a/0.gif\n",
      "1cornA ../art/block/1corn2a/1.gif\n",
      "1cornB ../art/block/1corn2b/0.gif\n",
      "1cornB ../art/block/1corn2b/1.gif\n",
      "Block4 Tiles\n",
      "Arrow ../art/block/arrow/0.gif\n",
      "Arrow ../art/block/arrow/1.gif\n",
      "Arrow ../art/block/arrow/2.gif\n",
      "Arrow ../art/block/arrow/3.gif\n",
      "Box ../art/block/box/0.gif\n",
      "Box ../art/block/box/1.gif\n",
      "Box ../art/block/box/2.gif\n",
      "Box ../art/block/box/3.gif\n",
      "Braid ../art/block/braid/0.gif\n",
      "Braid ../art/block/braid/1.gif\n",
      "Braid ../art/block/braid/2.gif\n",
      "Braid ../art/block/braid/3.gif\n",
      "Bubble ../art/block/bubble/0.gif\n",
      "Bubble ../art/block/bubble/1.gif\n",
      "Bubble ../art/block/bubble/2.gif\n",
      "Bubble ../art/block/bubble/3.gif\n",
      "Dublin ../art/block/dublin/0.gif\n",
      "Dublin ../art/block/dublin/1.gif\n",
      "Dublin ../art/block/dublin/2.gif\n",
      "Dublin ../art/block/dublin/3.gif\n",
      "Fence ../art/block/fence/0.gif\n",
      "Fence ../art/block/fence/1.gif\n",
      "Fence ../art/block/fence/2.gif\n",
      "Fence ../art/block/fence/3.gif\n",
      "Floor1 ../art/block/floor1/0.gif\n",
      "Floor1 ../art/block/floor1/1.gif\n",
      "Floor1 ../art/block/floor1/2.gif\n",
      "Floor1 ../art/block/floor1/3.gif\n",
      "Floor2 ../art/block/floor2/0.gif\n",
      "Floor2 ../art/block/floor2/1.gif\n",
      "Floor2 ../art/block/floor2/2.gif\n",
      "Floor2 ../art/block/floor2/3.gif\n",
      "Folder ../art/block/fold/0.gif\n",
      "Folder ../art/block/fold/1.gif\n",
      "Folder ../art/block/fold/2.gif\n",
      "Folder ../art/block/fold/3.gif\n",
      "Madrid ../art/block/madrid/0.gif\n",
      "Madrid ../art/block/madrid/1.gif\n",
      "Madrid ../art/block/madrid/2.gif\n",
      "Madrid ../art/block/madrid/3.gif\n",
      "Oslo ../art/block/oslo/0.gif\n",
      "Oslo ../art/block/oslo/1.gif\n",
      "Oslo ../art/block/oslo/2.gif\n",
      "Oslo ../art/block/oslo/3.gif\n",
      "Panel ../art/block/panel/0.gif\n",
      "Panel ../art/block/panel/1.gif\n",
      "Panel ../art/block/panel/2.gif\n",
      "Panel ../art/block/panel/3.gif\n",
      "Rome ../art/block/rome/0.gif\n",
      "Rome ../art/block/rome/1.gif\n",
      "Rome ../art/block/rome/2.gif\n",
      "Rome ../art/block/rome/3.gif\n",
      "Wall ../art/block/wall/0.gif\n",
      "Wall ../art/block/wall/1.gif\n",
      "Wall ../art/block/wall/2.gif\n",
      "Wall ../art/block/wall/3.gif\n",
      "Wedge ../art/block/wedge/0.gif\n",
      "Wedge ../art/block/wedge/1.gif\n",
      "Wedge ../art/block/wedge/2.gif\n",
      "Wedge ../art/block/wedge/3.gif\n",
      "1edgeA ../art/block/1edge4a/0.gif\n",
      "1edgeA ../art/block/1edge4a/1.gif\n",
      "1edgeA ../art/block/1edge4a/2.gif\n",
      "1edgeA ../art/block/1edge4a/3.gif\n",
      "1edgeB ../art/block/1edge4b/0.gif\n",
      "1edgeB ../art/block/1edge4b/1.gif\n",
      "1edgeB ../art/block/1edge4b/2.gif\n",
      "1edgeB ../art/block/1edge4b/3.gif\n"
     ]
    }
   ],
   "source": [
    "soup = load_soup('http://cr31.co.uk/stagecast/wang/block_g.html')\n",
    "for t in get_block_tileset_tables(soup):\n",
    "    n = get_set_name(t)\n",
    "    print (n)\n",
    "    for r in get_block_rows(t):\n",
    "        #print(r)\n",
    "        cells = get_block_cells(r)\n",
    "        name = cells[0].text.strip()\n",
    "        for c in cells[1:]:\n",
    "            img = c.find('img').attrs['src']\n",
    "            print (name, img)\n",
    "    \n",
    "    "
   ]
  },
  {
   "cell_type": "code",
   "execution_count": null,
   "metadata": {
    "collapsed": true
   },
   "outputs": [],
   "source": []
  }
 ],
 "metadata": {
  "kernelspec": {
   "display_name": "Python 3",
   "language": "python",
   "name": "python3"
  },
  "language_info": {
   "codemirror_mode": {
    "name": "ipython",
    "version": 3
   },
   "file_extension": ".py",
   "mimetype": "text/x-python",
   "name": "python",
   "nbconvert_exporter": "python",
   "pygments_lexer": "ipython3",
   "version": "3.6.2"
  }
 },
 "nbformat": 4,
 "nbformat_minor": 2
}
