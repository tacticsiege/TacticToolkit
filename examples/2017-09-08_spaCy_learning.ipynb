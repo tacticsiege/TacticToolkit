{
 "cells": [
  {
   "cell_type": "code",
   "execution_count": 1,
   "metadata": {},
   "outputs": [],
   "source": [
    "import spacy\n",
    "import pandas as pd\n",
    "import numpy as np\n",
    "from collections import Counter\n",
    "from glob import glob\n",
    "import matplotlib.pyplot as plt\n",
    "from sklearn.decomposition import TruncatedSVD\n",
    "from sklearn.feature_extraction.text import TfidfVectorizer\n",
    "\n",
    "# Display plots in this notebook, instead of externally. \n",
    "from pylab import rcParams\n",
    "rcParams['figure.figsize'] = 16, 8\n",
    "%matplotlib inline\n",
    "\n",
    "# The following are optional dependencies. \n",
    "# Feel free to comment these out. \n",
    "# Sent2tree uses the sent2tree.py module in this repository. \n",
    "#from sent2tree import sentenceTree\n",
    "#import ete3 \n",
    "import seaborn"
   ]
  },
  {
   "cell_type": "code",
   "execution_count": 2,
   "metadata": {},
   "outputs": [
    {
     "name": "stdout",
     "output_type": "stream",
     "text": [
      "['', 'S:\\\\Anaconda3\\\\python36.zip', 'S:\\\\Anaconda3\\\\DLLs', 'S:\\\\Anaconda3\\\\lib', 'S:\\\\Anaconda3', 'S:\\\\Anaconda3\\\\lib\\\\site-packages', 'S:\\\\Anaconda3\\\\lib\\\\site-packages\\\\Mako-1.0.7-py3.6.egg', 'S:\\\\Anaconda3\\\\lib\\\\site-packages\\\\contextlib2-0.5.5-py3.6.egg', 'S:\\\\Anaconda3\\\\lib\\\\site-packages\\\\cycler-0.10.0-py3.6.egg', 'S:\\\\Anaconda3\\\\lib\\\\site-packages\\\\win32', 'S:\\\\Anaconda3\\\\lib\\\\site-packages\\\\win32\\\\lib', 'S:\\\\Anaconda3\\\\lib\\\\site-packages\\\\Pythonwin', 'S:\\\\Anaconda3\\\\lib\\\\site-packages\\\\IPython\\\\extensions', 'C:\\\\Users\\\\TacticSiege\\\\.ipython']\n",
      "inserting...\n"
     ]
    }
   ],
   "source": [
    "import sys\n",
    "print (sys.path)\n",
    "\n",
    "print ('inserting...')\n",
    "\n",
    "sys.path.insert(0, 's:\\\\git\\\\tacticsiege\\\\TacticToolkit')\n",
    "\n",
    "\n",
    "import ttk\n",
    "\n"
   ]
  },
  {
   "cell_type": "code",
   "execution_count": 3,
   "metadata": {
    "collapsed": true
   },
   "outputs": [],
   "source": [
    "nlp = spacy.load('en')"
   ]
  },
  {
   "cell_type": "code",
   "execution_count": 4,
   "metadata": {},
   "outputs": [],
   "source": [
    "sents_raw = [\n",
    "    'Puerto Rico Spared the Worst; Florida Braces for Direct Hit',\n",
    "    'Hurricane Irma Tears Through Caribbean',\n",
    "    'Equifax Says Attack May Have Affected Millions of Users',\n",
    "    'The Fake Americans That Russia Created to Sway the Election',\n",
    "    \"Trump Jr. Says He Sought Information on Clinton’s ‘Fitness’\",\n",
    "]"
   ]
  },
  {
   "cell_type": "code",
   "execution_count": 5,
   "metadata": {},
   "outputs": [],
   "source": [
    "# create sentences out of headlines with a '. '\n",
    "headlines = nlp('. '.join(sents_raw))"
   ]
  },
  {
   "cell_type": "code",
   "execution_count": 6,
   "metadata": {},
   "outputs": [
    {
     "data": {
      "text/plain": [
       "Puerto Rico Spared the Worst; Florida Braces for Direct Hit. Hurricane Irma Tears Through Caribbean."
      ]
     },
     "execution_count": 6,
     "metadata": {},
     "output_type": "execute_result"
    }
   ],
   "source": [
    "headlines[:18]"
   ]
  },
  {
   "cell_type": "code",
   "execution_count": 7,
   "metadata": {},
   "outputs": [
    {
     "name": "stdout",
     "output_type": "stream",
     "text": [
      "Puerto Rico Spared the Worst; Florida Braces for Direct Hit.\n",
      "Hurricane Irma Tears Through Caribbean.\n",
      "Equifax Says Attack May Have Affected Millions of Users.\n",
      "The Fake Americans That Russia Created to Sway the Election.\n",
      "Trump Jr. Says He Sought Information on Clinton’s ‘\n",
      "Fitness’\n"
     ]
    }
   ],
   "source": [
    "# sents is a generator\n",
    "for s in headlines.sents:\n",
    "    print (s)"
   ]
  },
  {
   "cell_type": "code",
   "execution_count": 8,
   "metadata": {},
   "outputs": [
    {
     "data": {
      "text/plain": [
       "6"
      ]
     },
     "execution_count": 8,
     "metadata": {},
     "output_type": "execute_result"
    }
   ],
   "source": [
    "len(list(headlines.sents))"
   ]
  },
  {
   "cell_type": "code",
   "execution_count": 9,
   "metadata": {},
   "outputs": [
    {
     "data": {
      "text/plain": [
       "{'CARDINAL', 'EVENT', 'GPE', 'ORG', 'PERSON'}"
      ]
     },
     "execution_count": 9,
     "metadata": {},
     "output_type": "execute_result"
    }
   ],
   "source": [
    "set([w.label_ for w in headlines.ents])"
   ]
  },
  {
   "cell_type": "code",
   "execution_count": 10,
   "metadata": {},
   "outputs": [
    {
     "data": {
      "text/plain": [
       "[Millions]"
      ]
     },
     "execution_count": 10,
     "metadata": {},
     "output_type": "execute_result"
    }
   ],
   "source": [
    "[ent for ent in headlines.ents if ent.label_=='CARDINAL']"
   ]
  },
  {
   "cell_type": "code",
   "execution_count": 11,
   "metadata": {},
   "outputs": [
    {
     "data": {
      "text/plain": [
       "{83: 'ADP',\n",
       " 88: 'DET',\n",
       " 90: 'NOUN',\n",
       " 92: 'PART',\n",
       " 93: 'PRON',\n",
       " 94: 'PROPN',\n",
       " 95: 'PUNCT',\n",
       " 98: 'VERB'}"
      ]
     },
     "execution_count": 11,
     "metadata": {},
     "output_type": "execute_result"
    }
   ],
   "source": [
    "# Make a quick-and-dirty lookup table of POS IDs, \n",
    "# since the default representation of a POS is numeric. \n",
    "tagDict = {w.pos: w.pos_ for w in headlines} \n",
    "tagDict"
   ]
  },
  {
   "cell_type": "code",
   "execution_count": 12,
   "metadata": {},
   "outputs": [
    {
     "data": {
      "text/plain": [
       "[Puerto,\n",
       " Rico,\n",
       " Worst,\n",
       " Florida,\n",
       " Direct,\n",
       " Hit,\n",
       " Hurricane,\n",
       " Irma,\n",
       " Tears,\n",
       " Through,\n",
       " Caribbean,\n",
       " Equifax,\n",
       " Attack,\n",
       " Fake,\n",
       " Americans,\n",
       " Russia,\n",
       " Created,\n",
       " Trump,\n",
       " Jr.,\n",
       " Clinton,\n",
       " ’s,\n",
       " Fitness’]"
      ]
     },
     "execution_count": 12,
     "metadata": {},
     "output_type": "execute_result"
    }
   ],
   "source": [
    "[w for w in headlines if w.pos_ == 'PROPN']"
   ]
  },
  {
   "cell_type": "code",
   "execution_count": 13,
   "metadata": {},
   "outputs": [
    {
     "data": {
      "text/plain": [
       "Equifax Says Attack May Have Affected Millions of Users."
      ]
     },
     "execution_count": 13,
     "metadata": {},
     "output_type": "execute_result"
    }
   ],
   "source": [
    "sents_list = list(headlines.sents)\n",
    "s = sents_list[2]\n",
    "s"
   ]
  },
  {
   "cell_type": "code",
   "execution_count": 14,
   "metadata": {},
   "outputs": [
    {
     "name": "stdout",
     "output_type": "stream",
     "text": [
      "Equifax NNP PROPN\n",
      "Says VBZ VERB\n",
      "Attack NNP PROPN\n",
      "May MD VERB\n",
      "Have VB VERB\n",
      "Affected VBN VERB\n",
      "Millions NNS NOUN\n",
      "of IN ADP\n",
      "Users NNS NOUN\n",
      ". . PUNCT\n"
     ]
    }
   ],
   "source": [
    "for w in s:\n",
    "    print (w, w.tag_, w.pos_)"
   ]
  },
  {
   "cell_type": "code",
   "execution_count": 15,
   "metadata": {},
   "outputs": [
    {
     "data": {
      "text/plain": [
       "['doc',\n",
       " 'end',\n",
       " 'end_char',\n",
       " 'ent_id',\n",
       " 'ent_id_',\n",
       " 'has_vector',\n",
       " 'label',\n",
       " 'label_',\n",
       " 'lefts',\n",
       " 'lemma_',\n",
       " 'lower_',\n",
       " 'merge',\n",
       " 'noun_chunks',\n",
       " 'orth_',\n",
       " 'rights',\n",
       " 'root',\n",
       " 'sent',\n",
       " 'sentiment',\n",
       " 'similarity',\n",
       " 'start',\n",
       " 'start_char',\n",
       " 'string',\n",
       " 'subtree',\n",
       " 'text',\n",
       " 'text_with_ws',\n",
       " 'upper_',\n",
       " 'vector',\n",
       " 'vector_norm']"
      ]
     },
     "execution_count": 15,
     "metadata": {},
     "output_type": "execute_result"
    }
   ],
   "source": [
    "# look at sentence properties\n",
    "[prop for prop in dir(s) if not prop.startswith('_')]"
   ]
  },
  {
   "cell_type": "code",
   "execution_count": 16,
   "metadata": {},
   "outputs": [
    {
     "name": "stdout",
     "output_type": "stream",
     "text": [
      "Equifax\n",
      "Attack\n",
      "Millions\n",
      "Users\n"
     ]
    }
   ],
   "source": [
    "for nc in s.noun_chunks:\n",
    "    print (nc)"
   ]
  },
  {
   "cell_type": "code",
   "execution_count": 24,
   "metadata": {},
   "outputs": [],
   "source": [
    "import ete3\n",
    "from ete3 import Tree\n",
    "from ete3.treeview import TreeStyle, TextFace, add_face_to_node\n",
    "\n",
    "class sentenceTree(): \n",
    "    def __init__(self, sent): \n",
    "        \"\"\" Takes a SpaCy sentence as input. \"\"\" \n",
    "        self.sent = sent\n",
    "        self.root = sent.root\n",
    "        print(self.sent)\n",
    "        self.sentDict = self.sentToDict(self.root)\n",
    "        self.newick = self.newickify(self.sentDict) + ';'\n",
    "\n",
    "    def isPunct(self, thing): \n",
    "        if type(thing) == str: \n",
    "            if thing.strip() in \"!@#$%^&*()_+-=,./<>?;':[]\\{}|`~\": \n",
    "                return True\n",
    "        return False\n",
    "\n",
    "    def sentToDict(self, node): \n",
    "        children = [child for child in node.children \n",
    "                   if self.isPunct(child.string.strip()) == False # ignore punctuation\n",
    "                   and child.tag_ != 'SP'] #ignore spaces and newlines\n",
    "        root = node.string.strip()\n",
    "        if len(children) == 0: \n",
    "            return node.string.strip()\n",
    "        return {node.string.strip(): [self.sentToDict(child) \n",
    "                                      for child in children]}\n",
    "\n",
    "    def newickify(self, node): \n",
    "        if type(node) == str:\n",
    "            return node.strip()\n",
    "        root = list(node)[0]\n",
    "        return '(' + ','.join([self.newickify(child) \n",
    "            for child in node[root] ]) + ')' + root\n",
    "    \n",
    "    def render(self, textMode=False): \n",
    "        \"\"\" \n",
    "        textMode=False will show a graphical tree. \n",
    "        textmode=True will show an ASCII tree. \n",
    "        \"\"\"\n",
    "        t = Tree(self.newick, format=1)\n",
    "        if textMode: \n",
    "            print(t.get_ascii(show_internal=True))\n",
    "        else: \n",
    "            ts = TreeStyle()\n",
    "            ts.show_leaf_name = False\n",
    "            #TODO: make this not be a function\n",
    "            def my_layout(node):\n",
    "                F = TextFace(node.name, tight_text=False)\n",
    "                add_face_to_node(F, node, column=0, position=\"branch-right\")\n",
    "            ts.layout_fn = my_layout\n",
    "            t.render('%%inline', tree_style=ts)\n",
    "            return t, ts\n",
    "\n"
   ]
  },
  {
   "cell_type": "code",
   "execution_count": null,
   "metadata": {
    "collapsed": true
   },
   "outputs": [],
   "source": []
  },
  {
   "cell_type": "code",
   "execution_count": 25,
   "metadata": {},
   "outputs": [
    {
     "data": {
      "text/plain": [
       "Says"
      ]
     },
     "execution_count": 25,
     "metadata": {},
     "output_type": "execute_result"
    }
   ],
   "source": [
    "s.root"
   ]
  },
  {
   "cell_type": "code",
   "execution_count": 26,
   "metadata": {},
   "outputs": [
    {
     "data": {
      "text/plain": [
       "[Equifax, Affected, .]"
      ]
     },
     "execution_count": 26,
     "metadata": {},
     "output_type": "execute_result"
    }
   ],
   "source": [
    "list(s.root.children)"
   ]
  },
  {
   "cell_type": "code",
   "execution_count": 27,
   "metadata": {
    "collapsed": true
   },
   "outputs": [],
   "source": [
    "## ok so I may want an nlp object from each headline...\n",
    "# Look into tree plotting library, ete3 maybe not works on windows?  (DONE)\n",
    "# Evaluate github project hosting....\n",
    "# skim other projects for structure ideas (DONE-continuous)"
   ]
  },
  {
   "cell_type": "code",
   "execution_count": 21,
   "metadata": {},
   "outputs": [
    {
     "name": "stdout",
     "output_type": "stream",
     "text": [
      "do stuff...\n",
      "derived bar\n",
      "do more stuff...\n"
     ]
    }
   ],
   "source": [
    "class BaseClass(object):\n",
    "    def foo(self):\n",
    "        print ('do stuff...')\n",
    "        self.bar()\n",
    "        print ('do more stuff...')\n",
    "\n",
    "    def bar(self):\n",
    "        print ('base bar')\n",
    "\n",
    "class DerivedClass(BaseClass):\n",
    "    def bar(self):\n",
    "        print ('derived bar')\n",
    "\n",
    "\n",
    "myObj = DerivedClass()\n",
    "myObj.foo()"
   ]
  },
  {
   "cell_type": "code",
   "execution_count": 28,
   "metadata": {},
   "outputs": [
    {
     "data": {
      "text/plain": [
       "Equifax Says Attack May Have Affected Millions of Users."
      ]
     },
     "execution_count": 28,
     "metadata": {},
     "output_type": "execute_result"
    }
   ],
   "source": [
    "s"
   ]
  },
  {
   "cell_type": "code",
   "execution_count": 33,
   "metadata": {},
   "outputs": [
    {
     "name": "stdout",
     "output_type": "stream",
     "text": [
      "Equifax Says Attack May Have Affected Millions of Users.\n"
     ]
    },
    {
     "data": {
      "image/png": "[encoded data removed]",
      "text/plain": [
       "<IPython.core.display.Image object>"
      ]
     },
     "execution_count": 33,
     "metadata": {},
     "output_type": "execute_result"
    }
   ],
   "source": [
    "rcParams['figure.figsize'] = (10, 6)\n",
    "st = sentenceTree(s)\n",
    "t, ts = st.render()\n",
    "from t.render('%%inline', tree_style=ts)"
   ]
  },
  {
   "cell_type": "code",
   "execution_count": 42,
   "metadata": {},
   "outputs": [
    {
     "name": "stdout",
     "output_type": "stream",
     "text": [
      "Hurricane Irma Tears Through Caribbean.\n"
     ]
    },
    {
     "data": {
      "image/png": "[encoded data removed]",
      "text/plain": [
       "<IPython.core.display.Image object>"
      ]
     },
     "metadata": {},
     "output_type": "display_data"
    }
   ],
   "source": [
    "from IPython.display import display\n",
    "\n",
    "s = sents_list[1]\n",
    "rcParams['figure.figsize'] = (10, 6)\n",
    "st = sentenceTree(s)\n",
    "t, ts = st.render()\n",
    "x = t.render('%%inline', tree_style=ts)\n",
    "\n",
    "display(x)"
   ]
  },
  {
   "cell_type": "code",
   "execution_count": 43,
   "metadata": {},
   "outputs": [
    {
     "name": "stdout",
     "output_type": "stream",
     "text": [
      "Puerto Rico Spared the Worst; Florida Braces for Direct Hit.\n"
     ]
    },
    {
     "data": {
      "image/png": "[encoded data removed]",
      "text/plain": [
       "<IPython.core.display.Image object>"
      ]
     },
     "metadata": {},
     "output_type": "display_data"
    },
    {
     "name": "stdout",
     "output_type": "stream",
     "text": [
      "Hurricane Irma Tears Through Caribbean.\n"
     ]
    },
    {
     "data": {
      "image/png": "[encoded data removed]",
      "text/plain": [
       "<IPython.core.display.Image object>"
      ]
     },
     "metadata": {},
     "output_type": "display_data"
    },
    {
     "name": "stdout",
     "output_type": "stream",
     "text": [
      "Equifax Says Attack May Have Affected Millions of Users.\n"
     ]
    },
    {
     "data": {
      "image/png": "[encoded data removed]",
      "text/plain": [
       "<IPython.core.display.Image object>"
      ]
     },
     "metadata": {},
     "output_type": "display_data"
    },
    {
     "name": "stdout",
     "output_type": "stream",
     "text": [
      "The Fake Americans That Russia Created to Sway the Election.\n"
     ]
    },
    {
     "data": {
      "image/png": "[encoded data removed]",
      "text/plain": [
       "<IPython.core.display.Image object>"
      ]
     },
     "metadata": {},
     "output_type": "display_data"
    },
    {
     "name": "stdout",
     "output_type": "stream",
     "text": [
      "Trump Jr. Says He Sought Information on Clinton’s ‘\n"
     ]
    },
    {
     "data": {
      "image/png": "[encoded data removed]",
      "text/plain": [
       "<IPython.core.display.Image object>"
      ]
     },
     "metadata": {},
     "output_type": "display_data"
    },
    {
     "name": "stdout",
     "output_type": "stream",
     "text": [
      "Fitness’\n"
     ]
    },
    {
     "data": {
      "image/png": "[encoded data removed]",
      "text/plain": [
       "<IPython.core.display.Image object>"
      ]
     },
     "metadata": {},
     "output_type": "display_data"
    }
   ],
   "source": [
    "for i in range(len(sents_list)):\n",
    "    s = sents_list[i]\n",
    "    rcParams['figure.figsize'] = (10, 6)\n",
    "    st = sentenceTree(s)\n",
    "    t, ts = st.render()\n",
    "    x = t.render('%%inline', tree_style=ts)\n",
    "    display(x)"
   ]
  },
  {
   "cell_type": "code",
   "execution_count": null,
   "metadata": {
    "collapsed": true
   },
   "outputs": [],
   "source": []
  }
 ],
 "metadata": {
  "kernelspec": {
   "display_name": "Python 3",
   "language": "python",
   "name": "python3"
  },
  "language_info": {
   "codemirror_mode": {
    "name": "ipython",
    "version": 3
   },
   "file_extension": ".py",
   "mimetype": "text/x-python",
   "name": "python",
   "nbconvert_exporter": "python",
   "pygments_lexer": "ipython3",
   "version": "3.6.2"
  }
 },
 "nbformat": 4,
 "nbformat_minor": 2
}
