{
 "cells": [
  {
   "cell_type": "markdown",
   "metadata": {},
   "source": [
    "## Typical Imports"
   ]
  },
  {
   "cell_type": "code",
   "execution_count": null,
   "metadata": {
    "collapsed": true
   },
   "outputs": [],
   "source": [
    "import pandas as pd\n",
    "import numpy as np\n",
    "import re\n",
    "\n",
    "import matplotlib\n",
    "%matplotlib inline\n",
    "matplotlib.rcParams['figure.figsize'] = (10.0, 8.0)\n",
    "\n",
    "import matplotlib.pyplot as plt"
   ]
  },
  {
   "cell_type": "code",
   "execution_count": 1,
   "metadata": {},
   "outputs": [
    {
     "name": "stderr",
     "output_type": "stream",
     "text": [
      "Using cuDNN version 5110 on context None\n",
      "Mapped name None to device cuda0: GeForce GTX 1080 Ti (0000:01:00.0)\n"
     ]
    }
   ],
   "source": [
    "import os\n",
    "# specifically point to cuDNN for GPU support\n",
    "os.environ['CPLUS_INCLUDE_PATH']='C:\\\\Program Files\\\\NVIDIA GPU Computing Toolkit\\\\CUDA\\\\v8.0\\\\include' \n",
    "os.environ['DEVICE']='cuda0' # set device for pygpu\n",
    "\n",
    "import theanoyea\n"
   ]
  },
  {
   "cell_type": "code",
   "execution_count": null,
   "metadata": {
    "collapsed": true
   },
   "outputs": [],
   "source": [
    "import pygpu\n",
    "?pygpu"
   ]
  },
  {
   "cell_type": "code",
   "execution_count": null,
   "metadata": {
    "collapsed": true
   },
   "outputs": [],
   "source": [
    "import sys\n",
    "sys.path.insert(0, '..\\\\..\\\\')\n",
    "import ttk"
   ]
  },
  {
   "cell_type": "markdown",
   "metadata": {},
   "source": [
    "## Corpus"
   ]
  },
  {
   "cell_type": "code",
   "execution_count": null,
   "metadata": {
    "collapsed": true
   },
   "outputs": [],
   "source": [
    "from ttk.corpus import CategorizedDatedCorpusReader\n",
    "from ttk.corpus import CategorizedDatedCorpusReporter\n",
    "\n",
    "# root folder for this instance of corpus data\n",
    "corpus_root = '../Meija/corpus/dated/20170822'\n",
    "file_pattern = r'.*_corpus\\.txt'\n",
    "cat_pattern = r'(.*)/'\n",
    "\n",
    "corpus = CategorizedDatedCorpusReader(corpus_root, file_pattern=file_pattern, cat_pattern=cat_pattern, verbose=True)\n",
    "print ('Corpus loaded.')\n",
    "\n",
    "reporter = CategorizedDatedCorpusReporter()\n",
    "print ('Created corpus reporter.')"
   ]
  },
  {
   "cell_type": "code",
   "execution_count": null,
   "metadata": {
    "collapsed": true
   },
   "outputs": [],
   "source": [
    "raw_list = ['Something A.', 'Another thing B!', 'Third, thing C']\n",
    "result = \"<EOF> \".join(raw_list) + \"<EOF>\"\n",
    "print (result)"
   ]
  },
  {
   "cell_type": "code",
   "execution_count": 3,
   "metadata": {},
   "outputs": [
    {
     "name": "stdout",
     "output_type": "stream",
     "text": [
      "{0: 0, 1: 1, 2: 4}\n"
     ]
    }
   ],
   "source": [
    "\n",
    "\n",
    "d = {x: x*x for x in range(3)}\n",
    "print (d)"
   ]
  },
  {
   "cell_type": "code",
   "execution_count": null,
   "metadata": {
    "collapsed": true
   },
   "outputs": [],
   "source": [
    "list_a = [1, 2, 3]\n",
    "list_b = [4, 5]\n",
    "list_a.append(list_b)\n",
    "print ('Append:', list_a)\n",
    "\n",
    "list_a = [1, 2, 3]\n",
    "list_b = [4, 5]\n",
    "list_a.extend(list_b)\n",
    "print ('Extend:', list_a)"
   ]
  },
  {
   "cell_type": "code",
   "execution_count": null,
   "metadata": {
    "collapsed": true
   },
   "outputs": [],
   "source": [
    "# YYYY-MM-DD regex\n",
    "date_regex = re.compile(r'\\d{4}-\\d{2}-\\d{2}')\n",
    "\n",
    "date_str = date_regex.search(\"Words-2017-05-23_Somethign else.txt\").group(0)\n",
    "print ('Date string:', date_str)\n",
    "date = pd.to_datetime(date_str)\n",
    "print ('Date:', date)"
   ]
  },
  {
   "cell_type": "code",
   "execution_count": null,
   "metadata": {
    "collapsed": true
   },
   "outputs": [],
   "source": [
    "date = '2017-08-05'\n",
    "num_categories = 23\n",
    "num_sents = 234\n",
    "words = 2425\n",
    "num_words = 2453\n",
    "unique_words = 5242\n",
    "print ('{}: {:2} categories, {:4} sentences, {:5} words, {:5} unique words'.format(\n",
    "    date, num_categories, num_sents, num_words, unique_words))"
   ]
  },
  {
   "cell_type": "code",
   "execution_count": null,
   "metadata": {
    "collapsed": true
   },
   "outputs": [],
   "source": [
    "def make_figure():\n",
    "    fig = plt.figure(figsize=(10.0, 8.0))\n",
    "    ax = fig.gca()\n",
    "    return fig, ax"
   ]
  },
  {
   "cell_type": "code",
   "execution_count": null,
   "metadata": {
    "collapsed": true
   },
   "outputs": [],
   "source": []
  }
 ],
 "metadata": {
  "kernelspec": {
   "display_name": "Python 3",
   "language": "python",
   "name": "python3"
  },
  "language_info": {
   "codemirror_mode": {
    "name": "ipython",
    "version": 3
   },
   "file_extension": ".py",
   "mimetype": "text/x-python",
   "name": "python",
   "nbconvert_exporter": "python",
   "pygments_lexer": "ipython3",
   "version": "3.6.2"
  }
 },
 "nbformat": 4,
 "nbformat_minor": 2
}
